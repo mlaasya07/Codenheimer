{
 "cells": [
  {
   "cell_type": "markdown",
   "id": "db6eaa695b605682",
   "metadata": {},
   "source": [
    "# Import Necessary Libraries"
   ]
  },
  {
   "cell_type": "code",
   "execution_count": 1,
   "id": "fbc121e30a2defb3",
   "metadata": {
    "ExecuteTime": {
     "end_time": "2025-04-20T14:57:30.118229Z",
     "start_time": "2025-04-20T14:57:29.500906Z"
    }
   },
   "outputs": [],
   "source": [
    "import pandas as pd\n",
    "import numpy as np\n",
    "import re\n",
    "import nltk\n",
    "import string\n",
    "from nltk.corpus import stopwords\n",
    "from nltk.stem import WordNetLemmatizer\n",
    "from nltk.tokenize import word_tokenize\n",
    "from sklearn.feature_extraction.text import TfidfVectorizer\n",
    "from sklearn.metrics.pairwise import cosine_similarity\n",
    "from sklearn.preprocessing import MinMaxScaler\n",
    "import pickle\n",
    "import os\n",
    "import time\n",
    "import random\n",
    "from scipy import sparse"
   ]
  },
  {
   "cell_type": "markdown",
   "id": "36d61f8eb3185302",
   "metadata": {},
   "source": [
    "# Download NLTK Resources"
   ]
  },
  {
   "cell_type": "code",
   "execution_count": null,
   "id": "87787a806b858611",
   "metadata": {
    "ExecuteTime": {
     "end_time": "2025-04-20T14:57:40.936534Z",
     "start_time": "2025-04-20T14:57:30.735648Z"
    }
   },
   "outputs": [],
   "source": [
    "nltk.download('stopwords')\n",
    "nltk.download('wordnet')\n",
    "nltk.download('punkt')\n",
    "nltk.download('averaged_perceptron_tagger')"
   ]
  },
  {
   "cell_type": "markdown",
   "id": "3ea6a1004395d52d",
   "metadata": {},
   "source": [
    "# Load the Dataset"
   ]
  },
  {
   "cell_type": "code",
   "execution_count": 3,
   "id": "11d676de34ab08f1",
   "metadata": {
    "ExecuteTime": {
     "start_time": "2025-04-20T14:58:31.571278Z"
    },
    "jupyter": {
     "is_executing": true
    }
   },
   "outputs": [],
   "source": [
    "FILE_PATH = \"synthetic_user_dataset_10000.xlsx\"\n",
    "df = pd.read_excel(FILE_PATH)"
   ]
  },
  {
   "cell_type": "markdown",
   "id": "13d74448feab6919",
   "metadata": {},
   "source": [
    "# Define Term Mappings"
   ]
  },
  {
   "cell_type": "code",
   "execution_count": null,
   "id": "11d505227d3ccf9b",
   "metadata": {},
   "outputs": [],
   "source": [
    "term_mappings = {\n",
    "    'tool set': 'tool_set', 'tool kit': 'tool_kit', 'game credit': 'game_credit', 'game DLC': 'game_DLC',\n",
    "    'concert pass': 'concert_pass', 'zoo ticket': 'zoo_ticket', 'free meal': 'free_meal', 'flight deal': 'flight_deal',\n",
    "    'sports equipment': 'sports_equipment', 'cooking class': 'cooking_class', 'dance lesson': 'dance_lesson',\n",
    "    'music festival': 'music_festival', 'movie premiere': 'movie_premiere', 'pet accessory': 'pet_accessory',\n",
    "    'travel guide': 'travel_guide', 'news subscription': 'news_subscription', 'gaming console': 'gaming_console',\n",
    "    'diy workshop': 'diy_workshop', 'vip pass': 'vip_pass', 'streaming voucher': 'streaming_voucher',\n",
    "    'book club': 'book_club', 'food tour': 'food_tour', 'pet training': 'pet_training', 'craft kit': 'craft_kit',\n",
    "    'chef workshop': 'chef_workshop', 'movie ticket': 'movie_ticket', 'concert ticket': 'concert_ticket',\n",
    "    'sports ticket': 'sports_ticket', 'food coupon': 'food_coupon', 'news coupon': 'news_coupon',\n",
    "    'travel voucher': 'travel_voucher', 'music workshop': 'music_workshop',\n",
    "    'art class': 'art_class', 'photo workshop': 'photo_workshop', 'writing course': 'writing_course',\n",
    "    'gardening kit': 'gardening_kit', 'tech gadget': 'tech_gadget', 'fashion voucher': 'fashion_voucher',\n",
    "    'museum pass': 'museum_pass', 'yoga session': 'yoga_session', 'board game': 'board_game'\n",
    "}"
   ]
  },
  {
   "cell_type": "markdown",
   "id": "97b56d9c9e6e0336",
   "metadata": {},
   "source": [
    "# Function to Standardize Terms"
   ]
  },
  {
   "cell_type": "code",
   "execution_count": 5,
   "id": "93ca8c960913e2ab",
   "metadata": {},
   "outputs": [],
   "source": [
    "def standardize_terms(text):\n",
    "    if not isinstance(text, str):\n",
    "        return text\n",
    "    for term, replacement in term_mappings.items():\n",
    "        text = text.replace(term, replacement)\n",
    "    return text"
   ]
  },
  {
   "cell_type": "markdown",
   "id": "eb10fdd854586801",
   "metadata": {},
   "source": [
    "# Preprocess Interests and Past Rewards"
   ]
  },
  {
   "cell_type": "code",
   "execution_count": 6,
   "id": "59dd5e13cb1c688d",
   "metadata": {},
   "outputs": [],
   "source": [
    "df['interests'] = df['interests'].apply(lambda x: ' '.join(str(x).split(',')) if pd.notnull(x) else '')\n",
    "df['past_rewards'] = df['past_rewards'].apply(lambda x: ' '.join(str(x).split(',')) if pd.notnull(x) else '')\n",
    "df['interests'] = df['interests'].apply(standardize_terms)\n",
    "df['past_rewards'] = df['past_rewards'].apply(standardize_terms)\n",
    "df['interests_original'] = df['interests']\n",
    "df['past_rewards_original'] = df['past_rewards']"
   ]
  },
  {
   "cell_type": "markdown",
   "id": "35d961caa675b25f",
   "metadata": {},
   "source": [
    "# Define Interest Mappings"
   ]
  },
  {
   "cell_type": "code",
   "execution_count": 7,
   "id": "c7359d71c9240cae",
   "metadata": {},
   "outputs": [],
   "source": [
    "interest_mappings = {\n",
    "    'movies': 'movies', 'movie': 'movies', 'gaming': 'gaming', 'game': 'gaming', 'music': 'music',\n",
    "    'books': 'books', 'book': 'books', 'reading': 'books',\n",
    "    'diy': 'crafts', 'crafting': 'crafts', 'woodworking': 'crafts', 'knitting': 'crafts',\n",
    "    'animals': 'pets', 'animal': 'pets', 'dog': 'pets', 'cat': 'pets', 'pet': 'pets',\n",
    "    'news': 'current_events', 'current events': 'current_events', 'politics': 'current_events',\n",
    "    'dance': 'dancing', 'dancing': 'dancing', 'ballet': 'dancing', 'salsa': 'dancing',\n",
    "    'travel': 'travel', 'travelling': 'travel', 'vacation': 'travel',\n",
    "    'food': 'cooking', 'cooking': 'cooking', 'baking': 'cooking', 'eating': 'cooking',\n",
    "    'sports': 'sports', 'sport': 'sports', 'fitness': 'sports', 'exercise': 'sports',\n",
    "    'jogging': 'sports', 'jog': 'sports', 'running': 'sports', 'hiking': 'sports',\n",
    "    'swimming': 'sports', 'swim': 'sports', 'working out': 'sports', 'work out': 'sports',\n",
    "    'workout': 'sports', 'weightlifting': 'sports', 'gym': 'sports', 'sprinting': 'sports', 'sprint': 'sports',\n",
    "    'art': 'art', 'painting': 'art', 'drawing': 'art', 'sculpting': 'art',\n",
    "    'photography': 'photography', 'photo': 'photography', 'camera': 'photography',\n",
    "    'writing': 'writing', 'creative writing': 'writing', 'journaling': 'writing',\n",
    "    'gardening': 'gardening', 'plants': 'gardening', 'landscaping': 'gardening',\n",
    "    'tech': 'tech', 'technology': 'tech', 'coding': 'tech', 'gadgets': 'tech',\n",
    "    'fashion': 'fashion', 'clothing': 'fashion', 'style': 'fashion', 'design': 'fashion',\n",
    "    'history': 'history', 'historical': 'history', 'archaeology': 'history',\n",
    "    'yoga': 'yoga', 'meditation': 'yoga', 'wellness': 'yoga',\n",
    "    'board games': 'board_games', 'tabletop': 'board_games', 'strategy games': 'board_games'\n",
    "}"
   ]
  },
  {
   "cell_type": "markdown",
   "id": "36bbad568fc714b0",
   "metadata": {},
   "source": [
    "# Function to Map Interests"
   ]
  },
  {
   "cell_type": "code",
   "execution_count": 8,
   "id": "7dac6cd3ee60e87b",
   "metadata": {},
   "outputs": [],
   "source": [
    "def map_interests(text):\n",
    "    tokens = text.lower().split()\n",
    "    mapped = [interest_mappings.get(token, token) for token in tokens]\n",
    "    return ' '.join(mapped)"
   ]
  },
  {
   "cell_type": "markdown",
   "id": "a9696a677ae3cdc0",
   "metadata": {},
   "source": [
    "# Map Interests in DataFrame"
   ]
  },
  {
   "cell_type": "code",
   "execution_count": 9,
   "id": "6813a0f985b3f88e",
   "metadata": {},
   "outputs": [],
   "source": [
    "df['interests_mapped'] = df['interests_original'].apply(map_interests)"
   ]
  },
  {
   "cell_type": "markdown",
   "id": "895f5b561ec9fba3",
   "metadata": {},
   "source": [
    "# Fill Missing Values in Selected Features"
   ]
  },
  {
   "cell_type": "code",
   "execution_count": 10,
   "id": "6ab92f9d43300cb9",
   "metadata": {},
   "outputs": [],
   "source": [
    "features_selected = ['age_group', 'interests', 'activity_score', 'past_rewards']\n",
    "for feature in features_selected:\n",
    "    if feature == 'activity_score':\n",
    "        df[feature] = df[feature].fillna(df[feature].mean())\n",
    "    else:\n",
    "        df[feature] = df[feature].fillna('unknown')"
   ]
  },
  {
   "cell_type": "markdown",
   "id": "4cf1f2d75e68fa0d",
   "metadata": {},
   "source": [
    "# Preprocess Text Function"
   ]
  },
  {
   "cell_type": "code",
   "execution_count": 11,
   "id": "53acb00f078ec362",
   "metadata": {},
   "outputs": [],
   "source": [
    "stop_words = set(stopwords.words('english'))\n",
    "lemmatizer = WordNetLemmatizer()\n",
    "\n",
    "def preprocess_text(text, preserve_interests=False):\n",
    "    if not isinstance(text, str) or not text.strip():\n",
    "        return ''\n",
    "    text = text.lower()\n",
    "    text = re.sub(r'\\b(?:and|or|&|\\|)\\b', ' ', text)\n",
    "    text = re.sub(r'[,]', ' ', text)\n",
    "    text = re.sub(r'\\d+', ' ', text)\n",
    "    text = re.sub(f\"[{re.escape(string.punctuation)}]\", \" \", text)\n",
    "    tokens = word_tokenize(text)\n",
    "    tokens = [word for word in tokens if word not in stop_words]\n",
    "    if preserve_interests:\n",
    "        tokens = [interest_mappings.get(word, word) for word in tokens]\n",
    "    return ' '.join([lemmatizer.lemmatize(word) for word in tokens])"
   ]
  },
  {
   "cell_type": "markdown",
   "id": "8e1d7c0ea35afd10",
   "metadata": {},
   "source": [
    "# Preprocess Columns in DataFrame"
   ]
  },
  {
   "cell_type": "code",
   "execution_count": 12,
   "id": "c53cc9a8e20e73d0",
   "metadata": {},
   "outputs": [],
   "source": [
    "def preprocess_column(col):\n",
    "    col = col.str.lower() \\\n",
    "             .replace(r'\\b(?:and|or|&|\\|)\\b', ' ', regex=True) \\\n",
    "             .replace(r'[,]', ' ', regex=True) \\\n",
    "             .replace(r'\\d+', ' ', regex=True) \\\n",
    "             .replace(f\"[{re.escape(string.punctuation)}]\", \" \", regex=True)\n",
    "    return col.apply(lambda x: ' '.join([lemmatizer.lemmatize(w) for w in word_tokenize(x) if w not in stop_words]) if isinstance(x, str) else '')\n",
    "\n",
    "df['age_group'] = preprocess_column(df['age_group'])\n",
    "df['interests'] = preprocess_column(df['interests'])\n",
    "df['past_rewards'] = preprocess_column(df['past_rewards'])\n",
    "df['interests'] = df['interests'].apply(lambda x: ' '.join([interest_mappings.get(w, w) for w in x.split()]) if x else '')"
   ]
  },
  {
   "cell_type": "markdown",
   "id": "cbdab29f7ecc5cfb",
   "metadata": {},
   "source": [
    "# Normalize Activity Score"
   ]
  },
  {
   "cell_type": "code",
   "execution_count": 13,
   "id": "fd2aa7e63bd9a3c4",
   "metadata": {},
   "outputs": [],
   "source": [
    "scaler = MinMaxScaler()\n",
    "df['activity_score_norm'] = scaler.fit_transform(df[['activity_score']])"
   ]
  },
  {
   "cell_type": "markdown",
   "id": "10eb976558af2e26",
   "metadata": {},
   "source": [
    "# Combine Features for Similarity Calculation"
   ]
  },
  {
   "cell_type": "code",
   "execution_count": 14,
   "id": "c66a2e8efa251ba5",
   "metadata": {},
   "outputs": [],
   "source": [
    "combined_features = df['age_group'] + ' ' + (df['interests'] + ' ') * 5 + df['activity_score_norm'].astype(str) + ' ' + (df['past_rewards'] + ' ') * 3"
   ]
  },
  {
   "cell_type": "markdown",
   "id": "d795f2c8ff4cf225",
   "metadata": {},
   "source": [
    "# Load or Compute User Similarity Matrix"
   ]
  },
  {
   "cell_type": "code",
   "execution_count": 15,
   "id": "fe1e03d394dd9589",
   "metadata": {},
   "outputs": [],
   "source": [
    "CACHE_PATH = \"similarity_matrix_fixed.pkl\"\n",
    "\n",
    "vectorizer = TfidfVectorizer(ngram_range=(1, 4), max_df=0.85, max_features=5000)\n",
    "feature_vectors = vectorizer.fit_transform(combined_features)\n",
    "\n",
    "if os.path.exists(CACHE_PATH):\n",
    "    with open(CACHE_PATH, 'rb') as f:\n",
    "        user_similarity = pickle.load(f).toarray()\n",
    "else:\n",
    "    user_similarity = cosine_similarity(feature_vectors)\n",
    "    sparse_similarity = sparse.csr_matrix(user_similarity)\n",
    "    with open(CACHE_PATH, 'wb') as f:\n",
    "        pickle.dump(sparse_similarity, f)"
   ]
  },
  {
   "cell_type": "markdown",
   "id": "3e8207dec4561a06",
   "metadata": {},
   "source": [
    "# Define Reward Interest Mapping"
   ]
  },
  {
   "cell_type": "code",
   "execution_count": 16,
   "id": "f0746a9fb8bc8b22",
   "metadata": {},
   "outputs": [],
   "source": [
    "reward_interest_map = {\n",
    "    'tool_set': ['crafts'], 'tool_kit': ['crafts'], 'craft_kit': ['crafts'], 'diy_workshop': ['crafts'],\n",
    "    'concert_pass': ['music'], 'concert_ticket': ['music'], 'music_festival': ['music'], 'music_workshop': ['music'],\n",
    "    'zoo_ticket': ['pets'], 'pet_accessory': ['pets'], 'pet_grooming': ['pets'], 'pet_training': ['pets'],\n",
    "    'game_credit': ['gaming'], 'game_DLC': ['gaming'], 'gaming_console': ['gaming'],\n",
    "    'DVD': ['movies'], 'popcorn': ['movies'], 'movie_premiere': ['movies'], 'movie_ticket': ['movies'],\n",
    "    'e-book': ['books'], 'audiobook': ['books'], 'book_club': ['books'], 'subscription': ['books'],\n",
    "    'free_meal': ['cooking'], 'cooking_class': ['cooking'], 'food_tour': ['cooking'], 'recipe_book': ['cooking'],\n",
    "    'chef_workshop': ['cooking'], 'food_coupon': ['cooking'],\n",
    "    'news_coupon': ['current_events'], 'news_subscription': ['current_events'], 'discount': ['current_events'],\n",
    "    'flight_deal': ['travel'], 'travel_guide': ['travel'], 'travel_package': ['travel'], 'travel_voucher': ['travel'],\n",
    "    'sports_equipment': ['sports'], 'jersey': ['sports'], 'fitness_tracker': ['sports'], 'sports_ticket': ['sports'],\n",
    "    'dance_lesson': ['dancing'], 'dance_festival': ['dancing'],\n",
    "    'streaming_voucher': ['movies', 'music'], 'vip_pass': ['music', 'movies'],\n",
    "    'art_class': ['art'], 'art_supplies': ['art'], 'gallery_pass': ['art'],\n",
    "    'photo_workshop': ['photography'], 'camera_accessory': ['photography'], 'photo_book': ['photography'],\n",
    "    'writing_course': ['writing'], 'journal': ['writing'], 'writing_retreat': ['writing'],\n",
    "    'gardening_kit': ['gardening'], 'plant_subscription': ['gardening'], 'garden_tour': ['gardening'],\n",
    "    'tech_gadget': ['tech'], 'coding_course': ['tech'], 'tech_magazine': ['tech'],\n",
    "    'fashion_voucher': ['fashion'], 'style_workshop': ['fashion'], 'clothing_subscription': ['fashion'],\n",
    "    'museum_pass': ['history'], 'history_book': ['history'], 'historical_tour': ['history'],\n",
    "    'yoga_session': ['yoga'], 'meditation_app': ['yoga'], 'wellness_retreat': ['yoga'],\n",
    "    'board_game': ['board_games'], 'game_night_pass': ['board_games'], 'strategy_game': ['board_games']\n",
    "}"
   ]
  },
  {
   "cell_type": "markdown",
   "id": "41f2caa0138bcd01",
   "metadata": {},
   "source": [
    "# Create User Reward Matrix"
   ]
  },
  {
   "cell_type": "code",
   "execution_count": 17,
   "id": "44d98b66dc9f45b1",
   "metadata": {},
   "outputs": [],
   "source": [
    "all_rewards = set()\n",
    "for rewards in df['past_rewards_original']:\n",
    "    if pd.notnull(rewards):\n",
    "        reward_list = [r.strip() for r in re.split(r'[,\\s]+', rewards) if r.strip()]\n",
    "        cleaned_rewards = []\n",
    "        i = 0\n",
    "        while i < len(reward_list):\n",
    "            if i + 1 < len(reward_list) and f\"{reward_list[i]} {reward_list[i+1]}\" in term_mappings.values():\n",
    "                cleaned_rewards.append(f\"{reward_list[i]}_{reward_list[i+1]}\")\n",
    "                i += 2\n",
    "            else:\n",
    "                cleaned_rewards.append(reward_list[i])\n",
    "                i += 1\n",
    "        all_rewards.update(cleaned_rewards)\n",
    "all_rewards.update(reward_interest_map.keys())\n",
    "all_rewards = sorted([r for r in all_rewards if r in reward_interest_map])\n",
    "\n",
    "user_reward_matrix = np.zeros((len(df), len(all_rewards)))\n",
    "reward_to_idx = {reward: idx for idx, reward in enumerate(all_rewards)}\n",
    "for idx, rewards in enumerate(df['past_rewards_original']):\n",
    "    if pd.notnull(rewards):\n",
    "        reward_list = [r.strip() for r in re.split(r'[,\\s]+', rewards) if r.strip()]\n",
    "        cleaned_rewards = []\n",
    "        i = 0\n",
    "        while i < len(reward_list):\n",
    "            if i + 1 < len(reward_list) and f\"{reward_list[i]} {reward_list[i+1]}\" in term_mappings.values():\n",
    "                cleaned_rewards.append(f\"{reward_list[i]}_{reward_list[i+1]}\")\n",
    "                i += 2\n",
    "            else:\n",
    "                cleaned_rewards.append(reward_list[i])\n",
    "                i += 1\n",
    "        for reward in cleaned_rewards:\n",
    "            if reward in reward_to_idx:\n",
    "                user_reward_matrix[idx, reward_to_idx[reward]] = 1"
   ]
  },
  {
   "cell_type": "markdown",
   "id": "15664cea8e413e51",
   "metadata": {},
   "source": [
    "# Add New Rewards to User Reward Matrix"
   ]
  },
  {
   "cell_type": "code",
   "execution_count": 18,
   "id": "ecced1f9e757ff5c",
   "metadata": {},
   "outputs": [],
   "source": [
    "new_rewards = ['pet_training', 'craft_kit', 'chef_workshop', 'movie_ticket', 'concert_ticket',\n",
    "               'sports_ticket', 'food_coupon', 'news_coupon', 'travel_voucher', 'music_workshop',\n",
    "               'art_class', 'photo_workshop', 'writing_course', 'gardening_kit', 'tech_gadget',\n",
    "               'fashion_voucher', 'museum_pass', 'yoga_session', 'board_game']\n",
    "for reward in new_rewards:\n",
    "    if reward in reward_to_idx:\n",
    "        user_reward_matrix[:, reward_to_idx[reward]] += 0.15"
   ]
  },
  {
   "cell_type": "markdown",
   "id": "b0c001f885aa1ba3",
   "metadata": {},
   "source": [
    "# Function to Recommend Rewards"
   ]
  },
  {
   "cell_type": "code",
   "execution_count": 19,
   "id": "bf69dfa5dc591af6",
   "metadata": {},
   "outputs": [],
   "source": [
    "def recommend_rewards(user_idx, num_recommendations= 3):\n",
    "    sim_scores = user_similarity[user_idx]\n",
    "    threshold = 0.3\n",
    "    filtered_users = [i for i, score in enumerate(sim_scores) if score > threshold and i != user_idx]\n",
    "    if not filtered_users:\n",
    "        filtered_users = np.argsort(sim_scores)[::-1][1:11]\n",
    "    else:\n",
    "        filtered_users = sorted(filtered_users, key=lambda x: sim_scores[x], reverse=True)[:10]\n",
    "\n",
    "    reward_scores = np.zeros(len(all_rewards))\n",
    "    for sim_user in filtered_users:\n",
    "        reward_scores += user_reward_matrix[sim_user] * sim_scores[sim_user]\n",
    "\n",
    "    user_interests = df.iloc[user_idx]['interests_mapped'].split()\n",
    "    for reward, idx in reward_to_idx.items():\n",
    "        reward_interests = reward_interest_map.get(reward, [])\n",
    "        for interest in reward_interests:\n",
    "            if interest in user_interests:\n",
    "                reward_scores[idx] *= 300.0\n",
    "\n",
    "    if reward_scores.max() < 0.5:\n",
    "        for reward, idx in reward_to_idx.items():\n",
    "            reward_interests = reward_interest_map.get(reward, [])\n",
    "            for interest in reward_interests:\n",
    "                if interest in user_interests:\n",
    "                    reward_scores[idx] += 300.0\n",
    "\n",
    "    top_indices = np.argsort(reward_scores)[::-1][:num_recommendations]\n",
    "    recommended_rewards = [all_rewards[idx] for idx in top_indices]\n",
    "\n",
    "    activity = df.iloc[user_idx]['activity_score']\n",
    "    tier = 'premium' if activity >= 75 else 'standard' if activity >= 50 else 'basic'\n",
    "    return recommended_rewards, tier"
   ]
  },
  {
   "cell_type": "markdown",
   "id": "24a343e513c72ef1",
   "metadata": {},
   "source": [
    "# Function to Simulate Accuracy of Recommendations"
   ]
  },
  {
   "cell_type": "code",
   "execution_count": 20,
   "id": "7eb4bf27b0b2fa31",
   "metadata": {},
   "outputs": [],
   "source": [
    "def simulate_accuracy(user_idx, recommended_rewards):\n",
    "    user_interests = set(df.iloc[user_idx]['interests_mapped'].split())\n",
    "    user_past_rewards = set([r.strip() for r in re.split(r'[,\\s]+', df.iloc[user_idx]['past_rewards_original']) if r.strip()])\n",
    "    for reward in recommended_rewards:\n",
    "        reward_interests = set(reward_interest_map.get(reward, []))\n",
    "        if reward_interests & user_interests or reward in user_past_rewards:\n",
    "            return True\n",
    "    return False"
   ]
  },
  {
   "cell_type": "markdown",
   "id": "e06ddc84c6597491",
   "metadata": {},
   "source": [
    "# Evaluate Model Accuracy"
   ]
  },
  {
   "cell_type": "code",
   "execution_count": null,
   "id": "7282ec96c6cabf8",
   "metadata": {},
   "outputs": [],
   "source": [
    "Accuracy_scores = []\n",
    "eval_subset = df.sample(n=500, random_state=42).index\n",
    "for user_idx in eval_subset:\n",
    "    recommendations, tier = recommend_rewards(user_idx)\n",
    "    satisfied = simulate_accuracy(user_idx, recommendations)\n",
    "    Accuracy_scores.append(satisfied)\n",
    "accuracy_rate = np.mean(Accuracy_scores) * 100\n",
    "print(f\"Model Accuracy: {accuracy_rate:.2f}%\")"
   ]
  },
  {
   "cell_type": "markdown",
   "id": "1df265ae9629947e",
   "metadata": {},
   "source": [
    "# Function to Recommend for New Users"
   ]
  },
  {
   "cell_type": "code",
   "execution_count": 22,
   "id": "98c84c1138499cc4",
   "metadata": {},
   "outputs": [],
   "source": [
    "def recommend_for_new_user(user_input, num_recommendations=3):\n",
    "    if not user_input.strip():\n",
    "        print(\"No interests entered, can’t recommend anything!\")\n",
    "        return [], 'standard', 'no interests provided'\n",
    "\n",
    "    user_input_processed = preprocess_text(user_input, preserve_interests=True)\n",
    "    user_interests = [interest_mappings.get(word, word) for word in user_input_processed.split()][:3]\n",
    "    user_input_processed = ' '.join(user_interests)\n",
    "    print(f\"Processed interests: {user_input_processed}\")\n",
    "\n",
    "    new_user_features = f\"unknown {user_input_processed} {user_input_processed} {user_input_processed} {df['activity_score_norm'].mean()}\"\n",
    "    new_user_vector = vectorizer.transform([new_user_features])\n",
    "    sim_scores = cosine_similarity(new_user_vector, feature_vectors)[0]\n",
    "    similar_users = np.argsort(sim_scores)[::-1][:10]\n",
    "\n",
    "    reward_scores = np.zeros(len(all_rewards))\n",
    "    for sim_user in similar_users:\n",
    "        reward_scores += user_reward_matrix[sim_user] * sim_scores[sim_user]\n",
    "\n",
    "    interest_counts = {interest: user_interests.count(interest) for interest in user_interests}\n",
    "    for reward, idx in reward_to_idx.items():\n",
    "        reward_interests = reward_interest_map.get(reward, [])\n",
    "        for interest in reward_interests:\n",
    "            if interest in user_interests:\n",
    "                reward_scores[idx] *= 200.0 * max(1, interest_counts.get(interest, 1))\n",
    "\n",
    "    if reward_scores.max() < 0.5:\n",
    "        for reward, idx in reward_to_idx.items():\n",
    "            reward_interests = reward_interest_map.get(reward, [])\n",
    "            for interest in reward_interests:\n",
    "                if interest in user_interests:\n",
    "                    reward_scores[idx] += 200.0\n",
    "\n",
    "    top_indices = np.argsort(reward_scores)[::-1][:num_recommendations * 2]\n",
    "    selected_rewards = []\n",
    "    covered_interests = set()\n",
    "    candidate_rewards = [all_rewards[idx] for idx in top_indices]\n",
    "    for reward in candidate_rewards:\n",
    "        reward_interests = set(reward_interest_map.get(reward, []))\n",
    "        if reward_interests & set(user_interests) and reward not in selected_rewards:\n",
    "            selected_rewards.append(reward)\n",
    "            covered_interests.update(reward_interests & set(user_interests))\n",
    "            if len(selected_rewards) >= num_recommendations or covered_interests == set(user_interests):\n",
    "                break\n",
    "\n",
    "    while len(selected_rewards) < num_recommendations:\n",
    "        for reward in candidate_rewards:\n",
    "            reward_interests = set(reward_interest_map.get(reward, []))\n",
    "            if reward not in selected_rewards and reward_interests & set(user_interests):\n",
    "                selected_rewards.append(reward)\n",
    "                break\n",
    "        else:\n",
    "            fallback_rewards = {\n",
    "                'pets': ['zoo_ticket', 'pet_accessory', 'pet_grooming', 'pet_training'],\n",
    "                'crafts': ['tool_set', 'tool_kit', 'craft_kit', 'diy_workshop'],\n",
    "                'cooking': ['free_meal', 'cooking_class', 'food_tour', 'recipe_book', 'chef_workshop', 'food_coupon'],\n",
    "                'movies': ['movie_ticket', 'DVD', 'popcorn', 'movie_premiere', 'streaming_voucher'],\n",
    "                'music': ['concert_ticket', 'concert_pass', 'music_festival', 'music_workshop', 'streaming_voucher'],\n",
    "                'books': ['e-book', 'audiobook', 'book_club', 'subscription'],\n",
    "                'gaming': ['game_credit', 'game_DLC', 'gaming_console'],\n",
    "                'dancing': ['dance_lesson', 'dance_festival'],\n",
    "                'travel': ['flight_deal', 'travel_guide', 'travel_package', 'travel_voucher'],\n",
    "                'current_events': ['news_subscription', 'discount', 'news_coupon'],\n",
    "                'art': ['art_class', 'art_supplies', 'gallery_pass'],\n",
    "                'photography': ['photo_workshop', 'camera_accessory', 'photo_book'],\n",
    "                'writing': ['writing_course', 'journal', 'writing_retreat'],\n",
    "                'gardening': ['gardening_kit', 'plant_subscription', 'garden_tour'],\n",
    "                'tech': ['tech_gadget', 'coding_course', 'tech_magazine'],\n",
    "                'fashion': ['fashion_voucher', 'style_workshop', 'clothing_subscription'],\n",
    "                'history': ['museum_pass', 'history_book', 'historical_tour'],\n",
    "                'yoga': ['yoga_session', 'meditation_app', 'wellness_retreat'],\n",
    "                'board_games': ['board_game', 'game_night_pass', 'strategy_game']\n",
    "            }\n",
    "            for interest in user_interests:\n",
    "                for reward in fallback_rewards.get(interest, []):\n",
    "                    if reward in all_rewards and reward not in selected_rewards:\n",
    "                        selected_rewards.append(reward)\n",
    "                        break\n",
    "                if len(selected_rewards) >= num_recommendations:\n",
    "                    break\n",
    "            else:\n",
    "                selected_rewards.append(random.choice(all_rewards))\n",
    "\n",
    "    print(f\"Selected rewards: {selected_rewards}\")\n",
    "    return selected_rewards[:num_recommendations], 'standard', user_input_processed"
   ]
  },
  {
   "cell_type": "markdown",
   "id": "f084afd4f0e3f3b1",
   "metadata": {},
   "source": [
    "# Start User Interaction for Recommendations"
   ]
  },
  {
   "cell_type": "code",
   "execution_count": null,
   "id": "25088f3d3bbfecc9",
   "metadata": {},
   "outputs": [],
   "source": [
    "start_time = time.time()\n",
    "mapped_interests = sorted(set(interest_mappings.values()))\n",
    "print(\"\\nAvailable Interests:\")\n",
    "for i, interest in enumerate(mapped_interests, 1):\n",
    "    print(f\"{i}. {interest}\")\n",
    "user_input = input(\"\\nPick three interests from the list above: \")\n",
    "recommendations, tier, processed_input = recommend_for_new_user(user_input)\n",
    "print(f\"Recommendations generated in {time.time() - start_time:.2f} seconds\")\n",
    "\n",
    "if recommendations:\n",
    "    print(f\"\\nYour Recommendations:\")\n",
    "    print(f\"Interests: {processed_input}\")\n",
    "    print(f\"Rewards: {recommendations}\")\n",
    "    print(f\"Tier: {tier}\")\n",
    "else:\n",
    "    print(\"Oops, couldn’t generate recommendations.\")"
   ]
  },
  {
   "cell_type": "markdown",
   "id": "8324dfc712498eb6",
   "metadata": {},
   "source": [
    "# Evaluate Model Accuracy Again [tms]"
   ]
  },
  {
   "cell_type": "code",
   "execution_count": null,
   "id": "5b79ac72a0159b91",
   "metadata": {},
   "outputs": [],
   "source": [
    "accuracy_rate = np.mean([simulate_accuracy(user_idx, recommend_rewards(user_idx)[0]) for user_idx in df.sample(n=500, random_state=42).index]) * 100\n",
    "print(f\"Model Accuracy: {accuracy_rate:.2f}%\")"
   ]
  }
 ],
 "metadata": {
  "kernelspec": {
   "display_name": "base",
   "language": "python",
   "name": "python3"
  },
  "language_info": {
   "codemirror_mode": {
    "name": "ipython",
    "version": 3
   },
   "file_extension": ".py",
   "mimetype": "text/x-python",
   "name": "python",
   "nbconvert_exporter": "python",
   "pygments_lexer": "ipython3",
   "version": "3.12.7"
  }
 },
 "nbformat": 4,
 "nbformat_minor": 5
}
